{
  "nbformat": 4,
  "nbformat_minor": 0,
  "metadata": {
    "colab": {
      "name": "Tarea1.ipynb",
      "provenance": [],
      "authorship_tag": "ABX9TyPJNqykxCHDMrJmWXGjZ4Bv",
      "include_colab_link": true
    },
    "kernelspec": {
      "name": "python3",
      "display_name": "Python 3"
    },
    "language_info": {
      "name": "python"
    }
  },
  "cells": [
    {
      "cell_type": "markdown",
      "metadata": {
        "id": "view-in-github",
        "colab_type": "text"
      },
      "source": [
        "<a href=\"https://colab.research.google.com/github/Axel-Solalinde/SimMat_O2022/blob/main/Tarea1.ipynb\" target=\"_parent\"><img src=\"https://colab.research.google.com/assets/colab-badge.svg\" alt=\"Open In Colab\"/></a>"
      ]
    },
    {
      "cell_type": "markdown",
      "source": [
        "# **Presentación** \n",
        "Hola mucho gustó mi nombre es Axel Solalinde tengo 21 años y voy en 7° semestre de ingeniería en nanotecnología. Soy foráneo aqui en Guadalajara, nací en León, me gusta mucho hacer ejercicio y actualemente estoy entrenando rugby. \n",
        "\n",
        "# **Resumen**\n",
        "##  *The raid on Mar-a-Lago could shake America’s foundations*\n",
        "Este artículo se trata sobre la posibilidad de que Donald Trump sea procesado. Esto se debe a que agentes del FBI registraron la casa de Trump en Florida como parte de una investigación criminal. Trump ya público en Twitter lo que le estaba sucediendo y se está haciendo la víctima de las fuerzas oscuras que están intentado acabar con él, muchos de sus fieles seguidores lo están apoyando al igual que los legisladores republicanos y se está creando una gran controversia. \n",
        "\n",
        "### Referencias\n",
        "*https://www.economist.com/united-states/2022/08/10/the-raid-on-mar-a-lago-could-shake-americas-foundations?itm_source=parsely-api*"
      ],
      "metadata": {
        "id": "FZyLfkNb0ZA0"
      }
    }
  ]
}